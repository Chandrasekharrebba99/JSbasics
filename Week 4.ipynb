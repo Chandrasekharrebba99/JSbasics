{
 "cells": [
  {
   "cell_type": "code",
   "execution_count": 1,
   "metadata": {},
   "outputs": [
    {
     "name": "stdout",
     "output_type": "stream",
     "text": [
      "sdjvl\n"
     ]
    }
   ],
   "source": [
    "print(\"sdjvl\")"
   ]
  },
  {
   "cell_type": "code",
   "execution_count": 2,
   "metadata": {},
   "outputs": [
    {
     "data": {
      "text/plain": [
       "[12, 32, 4, 423, 4, 234, 2]"
      ]
     },
     "execution_count": 2,
     "metadata": {},
     "output_type": "execute_result"
    }
   ],
   "source": [
    "l =[12,32,4,423,4,234,2]\n",
    "l\n"
   ]
  },
  {
   "cell_type": "code",
   "execution_count": 3,
   "metadata": {},
   "outputs": [],
   "source": [
    "l.append(233)"
   ]
  },
  {
   "cell_type": "code",
   "execution_count": 4,
   "metadata": {},
   "outputs": [
    {
     "data": {
      "text/plain": [
       "[12, 32, 4, 423, 4, 234, 2, 233]"
      ]
     },
     "execution_count": 4,
     "metadata": {},
     "output_type": "execute_result"
    }
   ],
   "source": [
    "l"
   ]
  },
  {
   "cell_type": "code",
   "execution_count": 5,
   "metadata": {},
   "outputs": [],
   "source": [
    "l.append(2)"
   ]
  },
  {
   "cell_type": "code",
   "execution_count": 6,
   "metadata": {},
   "outputs": [
    {
     "data": {
      "text/plain": [
       "[12, 32, 4, 423, 4, 234, 2, 233, 2]"
      ]
     },
     "execution_count": 6,
     "metadata": {},
     "output_type": "execute_result"
    }
   ],
   "source": [
    "l"
   ]
  },
  {
   "cell_type": "code",
   "execution_count": 49,
   "metadata": {},
   "outputs": [
    {
     "data": {
      "text/plain": [
       "[2, 233, 234, 4, 4, 32, 12]"
      ]
     },
     "execution_count": 49,
     "metadata": {},
     "output_type": "execute_result"
    }
   ],
   "source": [
    "l[::-1]"
   ]
  },
  {
   "cell_type": "code",
   "execution_count": 7,
   "metadata": {},
   "outputs": [],
   "source": [
    "l.remove(2)"
   ]
  },
  {
   "cell_type": "code",
   "execution_count": 8,
   "metadata": {},
   "outputs": [
    {
     "data": {
      "text/plain": [
       "[12, 32, 4, 423, 4, 234, 233, 2]"
      ]
     },
     "execution_count": 8,
     "metadata": {},
     "output_type": "execute_result"
    }
   ],
   "source": [
    "l"
   ]
  },
  {
   "cell_type": "code",
   "execution_count": 9,
   "metadata": {},
   "outputs": [],
   "source": [
    "l.remove(423)"
   ]
  },
  {
   "cell_type": "code",
   "execution_count": 10,
   "metadata": {},
   "outputs": [
    {
     "data": {
      "text/plain": [
       "[12, 32, 4, 4, 234, 233, 2]"
      ]
     },
     "execution_count": 10,
     "metadata": {},
     "output_type": "execute_result"
    }
   ],
   "source": [
    "l"
   ]
  },
  {
   "cell_type": "code",
   "execution_count": 11,
   "metadata": {},
   "outputs": [
    {
     "ename": "ValueError",
     "evalue": "list.remove(x): x not in list",
     "output_type": "error",
     "traceback": [
      "\u001b[1;31m---------------------------------------------------------------------------\u001b[0m",
      "\u001b[1;31mValueError\u001b[0m                                Traceback (most recent call last)",
      "\u001b[1;32m<ipython-input-11-8dc22372f0be>\u001b[0m in \u001b[0;36m<module>\u001b[1;34m\u001b[0m\n\u001b[1;32m----> 1\u001b[1;33m \u001b[0ml\u001b[0m\u001b[1;33m.\u001b[0m\u001b[0mremove\u001b[0m\u001b[1;33m(\u001b[0m\u001b[1;36m232\u001b[0m\u001b[1;33m)\u001b[0m\u001b[1;33m\u001b[0m\u001b[1;33m\u001b[0m\u001b[0m\n\u001b[0m",
      "\u001b[1;31mValueError\u001b[0m: list.remove(x): x not in list"
     ]
    }
   ],
   "source": [
    "l.remove(232)"
   ]
  },
  {
   "cell_type": "markdown",
   "metadata": {},
   "source": [
    "# List within a list"
   ]
  },
  {
   "cell_type": "code",
   "execution_count": 12,
   "metadata": {},
   "outputs": [
    {
     "data": {
      "text/plain": [
       "[12, 1324, 34324]"
      ]
     },
     "execution_count": 12,
     "metadata": {},
     "output_type": "execute_result"
    }
   ],
   "source": [
    "list1 = []\n",
    "list1.append(12)\n",
    "list1.append(1324)\n",
    "list1.append(34324)\n",
    "list1"
   ]
  },
  {
   "cell_type": "code",
   "execution_count": 20,
   "metadata": {},
   "outputs": [],
   "source": [
    "x= []\n",
    "x.append(list1)\n"
   ]
  },
  {
   "cell_type": "code",
   "execution_count": 21,
   "metadata": {},
   "outputs": [
    {
     "data": {
      "text/plain": [
       "[[12, 1324, 34324]]"
      ]
     },
     "execution_count": 21,
     "metadata": {},
     "output_type": "execute_result"
    }
   ],
   "source": [
    "x"
   ]
  },
  {
   "cell_type": "code",
   "execution_count": 22,
   "metadata": {},
   "outputs": [
    {
     "name": "stdout",
     "output_type": "stream",
     "text": [
      "[[12, 1324, 34324], [12, 23, 23, 312, 213]]\n"
     ]
    }
   ],
   "source": [
    "m = [12,23,23,312,213]\n",
    "x.append(m)\n",
    "print(x)"
   ]
  },
  {
   "cell_type": "code",
   "execution_count": 23,
   "metadata": {},
   "outputs": [],
   "source": [
    "t =[]\n",
    "t.append(x)\n"
   ]
  },
  {
   "cell_type": "code",
   "execution_count": 24,
   "metadata": {},
   "outputs": [
    {
     "data": {
      "text/plain": [
       "[[[12, 1324, 34324], [12, 23, 23, 312, 213]]]"
      ]
     },
     "execution_count": 24,
     "metadata": {},
     "output_type": "execute_result"
    }
   ],
   "source": [
    "t"
   ]
  },
  {
   "cell_type": "code",
   "execution_count": 25,
   "metadata": {},
   "outputs": [],
   "source": [
    "t.append([233,2,32,32,3])"
   ]
  },
  {
   "cell_type": "code",
   "execution_count": 26,
   "metadata": {},
   "outputs": [
    {
     "data": {
      "text/plain": [
       "[[[12, 1324, 34324], [12, 23, 23, 312, 213]], [233, 2, 32, 32, 3]]"
      ]
     },
     "execution_count": 26,
     "metadata": {},
     "output_type": "execute_result"
    }
   ],
   "source": [
    "t"
   ]
  },
  {
   "cell_type": "code",
   "execution_count": 27,
   "metadata": {},
   "outputs": [
    {
     "data": {
      "text/plain": [
       "[[12, 1324, 34324], [12, 23, 23, 312, 213]]"
      ]
     },
     "execution_count": 27,
     "metadata": {},
     "output_type": "execute_result"
    }
   ],
   "source": [
    "t[0]"
   ]
  },
  {
   "cell_type": "code",
   "execution_count": 28,
   "metadata": {},
   "outputs": [
    {
     "data": {
      "text/plain": [
       "[233, 2, 32, 32, 3]"
      ]
     },
     "execution_count": 28,
     "metadata": {},
     "output_type": "execute_result"
    }
   ],
   "source": [
    "t[-1]"
   ]
  },
  {
   "cell_type": "code",
   "execution_count": 29,
   "metadata": {},
   "outputs": [
    {
     "data": {
      "text/plain": [
       "[233, 2, 32, 32, 3]"
      ]
     },
     "execution_count": 29,
     "metadata": {},
     "output_type": "execute_result"
    }
   ],
   "source": [
    "t[1]"
   ]
  },
  {
   "cell_type": "code",
   "execution_count": 30,
   "metadata": {},
   "outputs": [
    {
     "data": {
      "text/plain": [
       "[12, 1324, 34324]"
      ]
     },
     "execution_count": 30,
     "metadata": {},
     "output_type": "execute_result"
    }
   ],
   "source": [
    "t[0][0]"
   ]
  },
  {
   "cell_type": "markdown",
   "metadata": {},
   "source": [
    "# this is how we store a matrix 3x3"
   ]
  },
  {
   "cell_type": "code",
   "execution_count": 39,
   "metadata": {},
   "outputs": [],
   "source": [
    "m = []\n",
    "m.append([1,2,3])\n",
    "m.append([4,5,6])\n",
    "m.append([7,8,9])"
   ]
  },
  {
   "cell_type": "code",
   "execution_count": 40,
   "metadata": {},
   "outputs": [
    {
     "data": {
      "text/plain": [
       "[[1, 2, 3], [4, 5, 6], [7, 8, 9]]"
      ]
     },
     "execution_count": 40,
     "metadata": {},
     "output_type": "execute_result"
    }
   ],
   "source": [
    "m"
   ]
  },
  {
   "cell_type": "code",
   "execution_count": 44,
   "metadata": {},
   "outputs": [
    {
     "data": {
      "text/plain": [
       "[1, 2, 3]"
      ]
     },
     "execution_count": 44,
     "metadata": {},
     "output_type": "execute_result"
    }
   ],
   "source": [
    "m[0]"
   ]
  },
  {
   "cell_type": "code",
   "execution_count": 45,
   "metadata": {},
   "outputs": [
    {
     "data": {
      "text/plain": [
       "1"
      ]
     },
     "execution_count": 45,
     "metadata": {},
     "output_type": "execute_result"
    }
   ],
   "source": [
    "m[0][0]"
   ]
  },
  {
   "cell_type": "code",
   "execution_count": 46,
   "metadata": {},
   "outputs": [
    {
     "data": {
      "text/plain": [
       "3"
      ]
     },
     "execution_count": 46,
     "metadata": {},
     "output_type": "execute_result"
    }
   ],
   "source": [
    "m[0][-1]"
   ]
  },
  {
   "cell_type": "code",
   "execution_count": 48,
   "metadata": {},
   "outputs": [
    {
     "data": {
      "text/plain": [
       "9"
      ]
     },
     "execution_count": 48,
     "metadata": {},
     "output_type": "execute_result"
    }
   ],
   "source": [
    "m[-1][-1]"
   ]
  },
  {
   "cell_type": "code",
   "execution_count": 51,
   "metadata": {},
   "outputs": [
    {
     "data": {
      "text/plain": [
       "5"
      ]
     },
     "execution_count": 51,
     "metadata": {},
     "output_type": "execute_result"
    }
   ],
   "source": [
    "m[1][1]"
   ]
  },
  {
   "cell_type": "code",
   "execution_count": 42,
   "metadata": {},
   "outputs": [
    {
     "name": "stdout",
     "output_type": "stream",
     "text": [
      "1\n",
      "2\n",
      "3\n",
      "4\n",
      "5\n",
      "6\n",
      "7\n",
      "8\n",
      "9\n"
     ]
    }
   ],
   "source": [
    "for i in m:\n",
    "    for j in i:\n",
    "        print(j)"
   ]
  },
  {
   "cell_type": "code",
   "execution_count": 52,
   "metadata": {},
   "outputs": [
    {
     "name": "stdout",
     "output_type": "stream",
     "text": [
      "['apple', 'banana', 'cherry']\n"
     ]
    }
   ],
   "source": [
    "thislist = list((\"apple\", \"banana\", \"cherry\")) # note the double round-brackets\n",
    "print(thislist)"
   ]
  },
  {
   "cell_type": "code",
   "execution_count": 53,
   "metadata": {},
   "outputs": [
    {
     "name": "stdout",
     "output_type": "stream",
     "text": [
      "['orange', 'kiwi', 'melon']\n"
     ]
    }
   ],
   "source": [
    "thislist = [\"apple\", \"banana\", \"cherry\", \"orange\", \"kiwi\", \"melon\", \"mango\"]\n",
    "print(thislist[-4:-1])\n",
    "\n",
    "#Negative indexing means starting from the end of the list.\n",
    "\n",
    "#This example returns the items from index -4 (included) to index -1 (excluded)\n",
    "\n",
    "#Remember that the last item has the index -1,\n"
   ]
  },
  {
   "cell_type": "code",
   "execution_count": 57,
   "metadata": {},
   "outputs": [
    {
     "name": "stdout",
     "output_type": "stream",
     "text": [
      "0.08384407388175119\n"
     ]
    }
   ],
   "source": [
    "import random \n",
    "print(random.random())"
   ]
  },
  {
   "cell_type": "code",
   "execution_count": 61,
   "metadata": {},
   "outputs": [
    {
     "data": {
      "text/plain": [
       "[0.43506735340952385]"
      ]
     },
     "execution_count": 61,
     "metadata": {},
     "output_type": "execute_result"
    }
   ],
   "source": [
    "l = []\n",
    "l.append(random.random())\n",
    "l"
   ]
  },
  {
   "cell_type": "code",
   "execution_count": 62,
   "metadata": {},
   "outputs": [
    {
     "data": {
      "text/plain": [
       "[0.43506735340952385, 0.678624154549657]"
      ]
     },
     "execution_count": 62,
     "metadata": {},
     "output_type": "execute_result"
    }
   ],
   "source": [
    "l.append(random.random())\n",
    "l"
   ]
  },
  {
   "cell_type": "markdown",
   "metadata": {},
   "source": [
    "### append 10 random number in a list "
   ]
  },
  {
   "cell_type": "code",
   "execution_count": 67,
   "metadata": {},
   "outputs": [
    {
     "name": "stdout",
     "output_type": "stream",
     "text": [
      "[0.38409340143521586, 0.30379520642606106, 0.24477869151599385, 0.9616285152214249, 0.7346758701879958, 0.7878966104914302, 0.9951317783998542, 0.5012326865846634, 0.6482060166704628, 0.2736333397586911]\n"
     ]
    }
   ],
   "source": [
    "import random\n",
    "l =[]\n",
    "for i in range(10):\n",
    "     l.append(random.random())\n",
    "print(l)"
   ]
  },
  {
   "cell_type": "code",
   "execution_count": 73,
   "metadata": {},
   "outputs": [
    {
     "name": "stdout",
     "output_type": "stream",
     "text": [
      "[3, 9, 4, 1, 3, 7, 5, 9, 2, 3, 1, 8, 9, 10, 3, 9, 7, 5, 3, 5, 4, 9, 3, 10, 9, 4, 6, 2, 4, 9, 7, 10, 8, 5, 10, 2, 10, 5, 9, 1, 9, 2, 2, 7, 6, 4, 1, 9, 10, 2, 1, 1, 7, 3, 7, 4, 8, 10, 6, 10, 2, 5, 6, 10, 4, 6, 9, 2, 9, 8, 10, 8, 6, 7, 9, 4, 7, 6, 6, 10, 4, 10, 5, 8, 10, 10, 6, 3, 3, 4, 9, 8, 8, 6, 4, 8, 8, 7, 8, 2, 6, 3, 10, 7, 5, 10, 4, 6, 4]\n"
     ]
    }
   ],
   "source": [
    "import random\n",
    "l =[]\n",
    "for i in range(109):\n",
    "     l.append(random.randint(1,10))\n",
    "print(l)"
   ]
  },
  {
   "cell_type": "code",
   "execution_count": 2,
   "metadata": {},
   "outputs": [
    {
     "name": "stdout",
     "output_type": "stream",
     "text": [
      "[215, 242, 142, 208, 36, 217, 123, 123, 28, 230, 171, 252, 43, 84, 195, 88, 158, 86, 25, 183, 275, 345, 62, 275, 99, 294, 55, 9, 166, 46]\n"
     ]
    }
   ],
   "source": [
    "import random\n",
    "l =[]\n",
    "#initialiase a list with empty \n",
    "\n",
    "for i in range(30):\n",
    "     l.append(random.randint(1,365))\n",
    "        #append in empty list of 1 to 360\n",
    "        #append 30 of them\n",
    "print(l)\n"
   ]
  },
  {
   "cell_type": "code",
   "execution_count": 3,
   "metadata": {},
   "outputs": [
    {
     "name": "stdout",
     "output_type": "stream",
     "text": [
      "[9, 25, 28, 36, 43, 46, 55, 62, 84, 86, 88, 99, 123, 123, 142, 158, 166, 171, 183, 195, 208, 215, 217, 230, 242, 252, 275, 275, 294, 345]\n"
     ]
    }
   ],
   "source": [
    "l.sort()\n",
    "print(l)\n"
   ]
  },
  {
   "cell_type": "code",
   "execution_count": 78,
   "metadata": {},
   "outputs": [
    {
     "data": {
      "text/plain": [
       "30"
      ]
     },
     "execution_count": 78,
     "metadata": {},
     "output_type": "execute_result"
    }
   ],
   "source": [
    "len(l)"
   ]
  },
  {
   "cell_type": "code",
   "execution_count": 79,
   "metadata": {},
   "outputs": [
    {
     "ename": "IndexError",
     "evalue": "list index out of range",
     "output_type": "error",
     "traceback": [
      "\u001b[1;31m---------------------------------------------------------------------------\u001b[0m",
      "\u001b[1;31mIndexError\u001b[0m                                Traceback (most recent call last)",
      "\u001b[1;32m<ipython-input-79-05a0c0abb6e6>\u001b[0m in \u001b[0;36m<module>\u001b[1;34m\u001b[0m\n\u001b[1;32m----> 1\u001b[1;33m \u001b[0ml\u001b[0m\u001b[1;33m[\u001b[0m\u001b[1;36m30\u001b[0m\u001b[1;33m]\u001b[0m\u001b[1;33m\u001b[0m\u001b[1;33m\u001b[0m\u001b[0m\n\u001b[0m",
      "\u001b[1;31mIndexError\u001b[0m: list index out of range"
     ]
    }
   ],
   "source": [
    "l[30]"
   ]
  },
  {
   "cell_type": "code",
   "execution_count": 80,
   "metadata": {},
   "outputs": [
    {
     "data": {
      "text/plain": [
       "352"
      ]
     },
     "execution_count": 80,
     "metadata": {},
     "output_type": "execute_result"
    }
   ],
   "source": [
    "l[29]"
   ]
  },
  {
   "cell_type": "code",
   "execution_count": 81,
   "metadata": {},
   "outputs": [
    {
     "data": {
      "text/plain": [
       "[3,\n",
       " 14,\n",
       " 32,\n",
       " 38,\n",
       " 46,\n",
       " 60,\n",
       " 82,\n",
       " 85,\n",
       " 102,\n",
       " 103,\n",
       " 110,\n",
       " 130,\n",
       " 149,\n",
       " 191,\n",
       " 199,\n",
       " 206,\n",
       " 243,\n",
       " 249,\n",
       " 250,\n",
       " 253,\n",
       " 253,\n",
       " 257,\n",
       " 285,\n",
       " 301,\n",
       " 303,\n",
       " 320,\n",
       " 325,\n",
       " 336,\n",
       " 347,\n",
       " 352]"
      ]
     },
     "execution_count": 81,
     "metadata": {},
     "output_type": "execute_result"
    }
   ],
   "source": [
    "l"
   ]
  },
  {
   "cell_type": "markdown",
   "metadata": {},
   "source": [
    "### birthday paradox"
   ]
  },
  {
   "cell_type": "code",
   "execution_count": 20,
   "metadata": {},
   "outputs": [
    {
     "name": "stdout",
     "output_type": "stream",
     "text": [
      "[9, 15, 18, 19, 33, 43, 43, 57, 88, 97, 104, 116, 137, 147, 149, 157, 159, 203, 204, 210, 221, 230, 236, 258, 266, 290, 305, 312, 314, 326]\n"
     ]
    }
   ],
   "source": [
    "import random\n",
    "l =[]\n",
    "#initialiase a list with empty \n",
    "\n",
    "for i in range(30):\n",
    "     l.append(random.randint(1,365))\n",
    "        #append in empty list of 1 to 360\n",
    "        #append 30 of them\n",
    "l.sort()\n",
    "print(l)"
   ]
  },
  {
   "cell_type": "code",
   "execution_count": 25,
   "metadata": {},
   "outputs": [
    {
     "name": "stdout",
     "output_type": "stream",
     "text": [
      "repeats 43\n"
     ]
    }
   ],
   "source": [
    "i =0\n",
    "flag = False\n",
    "while(i < len(l)-1):\n",
    "    #print(i)\n",
    "    if(l[i]==l[i+1]):\n",
    "        flag = True\n",
    "        break\n",
    "    i=i+1\n",
    "if(flag == True):\n",
    "    print(\"repeats\",l[i])\n",
    "else:\n",
    "    print(\"Not repeats\")\n"
   ]
  },
  {
   "cell_type": "code",
   "execution_count": 47,
   "metadata": {},
   "outputs": [
    {
     "name": "stdout",
     "output_type": "stream",
     "text": [
      "[3, 5, 7, 13, 32, 34, 37, 40, 43, 45, 45, 48, 49, 54, 58, 74, 74, 82, 84, 92, 102, 105, 105, 106, 107, 110, 114, 117, 119, 122, 127, 138, 151, 181, 182, 204, 206, 220, 225, 226, 231, 246, 259, 265, 267, 270, 271, 286, 288, 289, 290, 292, 294, 295, 302, 304, 307, 319, 320, 327, 328, 328, 328, 330, 337, 346, 347, 350, 351, 364]\n",
      "repeat 328 328 328\n"
     ]
    }
   ],
   "source": [
    "import random\n",
    "l=[]\n",
    "for i in range(70):\n",
    "    l.append(random.randint(1,365))\n",
    "l.sort()\n",
    "print(l)\n",
    "i=0\n",
    "flag = 0\n",
    "while (i<len(l)-1):\n",
    "    if(l[i] ==l[i+1]==l[i+2]):\n",
    "        print(\"repeat\",l[i],l[i+1],l[i+2])\n",
    "        flag = 1\n",
    "        break\n",
    "    i=i+1\n",
    "if(flag ==0):\n",
    "    print(\"not repeats\")"
   ]
  },
  {
   "cell_type": "markdown",
   "metadata": {},
   "source": [
    "##\n",
    "# Naive search 4.4"
   ]
  },
  {
   "cell_type": "code",
   "execution_count": 51,
   "metadata": {},
   "outputs": [
    {
     "name": "stdout",
     "output_type": "stream",
     "text": [
      "hip hip hurray 423 423\n"
     ]
    }
   ],
   "source": [
    "l = [2,333123,23,423,4,2,1,23,121,]\n",
    "a = 423\n",
    "flag =0\n",
    "for i in range(len(l)-1):\n",
    "    if(l[i]==a):\n",
    "        print(\"hip hip hurray\",l[i],a)\n",
    "        flag =1\n",
    "        break\n",
    "if(flag == 0):\n",
    "    print(\"not found\",a)\n",
    "    "
   ]
  },
  {
   "cell_type": "code",
   "execution_count": null,
   "metadata": {},
   "outputs": [],
   "source": [
    "l = [2,333123,23,423,4,2,1,23,121,]\n",
    "a = 423\n",
    "flag =0\n",
    "for i in range(len(l)-1):\n",
    "    if(l[i]==a):\n",
    "        print(\"hip hip hurray\",l[i],a)\n",
    "        flag =1\n",
    "        break\n",
    "if(flag == 0):\n",
    "    print(\"not found\",a)"
   ]
  },
  {
   "cell_type": "markdown",
   "metadata": {},
   "source": [
    "# keep asking the number"
   ]
  },
  {
   "cell_type": "code",
   "execution_count": null,
   "metadata": {},
   "outputs": [],
   "source": [
    "l = [1,21,2,1,2,23,23,4,23,23,2,232,3,332,4,23]\n",
    "\n",
    "n=0\n",
    "\n",
    "while (n>-1):\n",
    "    print(\"Enter a number type -1 to stop searching\")\n",
    "    n = int(input())\n",
    "    flag = 0\n",
    "    for i in range(len(l)-1):\n",
    "        if(n==l[i]):\n",
    "            print(\"hip hip hurra we found \",l[i],n)\n",
    "            flag =1\n",
    "            break\n",
    "    if(flag==0):\n",
    "        print(\"not found your number\",n)\n",
    "            "
   ]
  },
  {
   "cell_type": "code",
   "execution_count": 4,
   "metadata": {},
   "outputs": [
    {
     "data": {
      "text/plain": [
       "[1, 8, 5, 87, 780, 78, 9876, 9787768]"
      ]
     },
     "execution_count": 4,
     "metadata": {},
     "output_type": "execute_result"
    }
   ],
   "source": [
    "l=[9787768,9876,78,780,87,5,8,1]\n",
    "l[::-1]"
   ]
  },
  {
   "cell_type": "markdown",
   "metadata": {},
   "source": [
    "# obvios sorting "
   ]
  },
  {
   "cell_type": "code",
   "execution_count": 1,
   "metadata": {},
   "outputs": [
    {
     "name": "stdout",
     "output_type": "stream",
     "text": [
      "[2, 2, 2, 12, 21, 23, 32, 32, 312, 32312]\n",
      "[]\n"
     ]
    }
   ],
   "source": [
    "l = [12,312,32312,21,2,23,2,2,32,32]\n",
    "\n",
    "a=[] #intializing list\n",
    "\n",
    "while(len(l)>0):\n",
    "        min =l[0] #assigning first element in min\n",
    "        for i in range(len(l)): #iteration from 0 to length of l\n",
    "            if(min>l[i]):   #comparing wich is bigger if smaller \n",
    "                min= l[i]   #replace to min l[i]\n",
    "        a.append(min)\n",
    "        l.remove(min)\n",
    "print(a)\n",
    "print(l)"
   ]
  },
  {
   "cell_type": "code",
   "execution_count": 15,
   "metadata": {},
   "outputs": [
    {
     "name": "stdout",
     "output_type": "stream",
     "text": [
      "83\n"
     ]
    }
   ],
   "source": [
    "li = [1,2,1,2,23,2,23,23,4,2]\n",
    "sum =0\n",
    "for i in range(len(li)):\n",
    "    sum = sum +li[i]\n",
    "print(sum)"
   ]
  },
  {
   "cell_type": "code",
   "execution_count": 21,
   "metadata": {},
   "outputs": [
    {
     "name": "stdout",
     "output_type": "stream",
     "text": [
      "[65, 82, 36, 12, 59, 81, 22, 47, 9, 54]\n"
     ]
    }
   ],
   "source": [
    "import random\n",
    "l=random.sample(list(range(100)),10)\n",
    "print(l)"
   ]
  },
  {
   "cell_type": "markdown",
   "metadata": {},
   "source": [
    "# dot product"
   ]
  },
  {
   "cell_type": "code",
   "execution_count": 22,
   "metadata": {},
   "outputs": [
    {
     "name": "stdout",
     "output_type": "stream",
     "text": [
      "548772\n"
     ]
    }
   ],
   "source": [
    "l = [12,212,121,521,21]\n",
    "x = [12,2124,653,35,52]\n",
    " \n",
    "sum =0\n",
    "for i in range(len(l)):\n",
    "    sum = sum +l[i]*x[i]\n",
    "print(sum)"
   ]
  },
  {
   "cell_type": "code",
   "execution_count": 27,
   "metadata": {},
   "outputs": [
    {
     "name": "stdout",
     "output_type": "stream",
     "text": [
      "[[1, 2, 3], [4, 5, 6], [7, 8, 9]]\n",
      "[[1, 2, 3], [6, 2, 3], [4, 2, 1]]\n",
      "0 0\n",
      "0 1\n",
      "0 2\n",
      "1 0\n",
      "1 1\n",
      "1 2\n",
      "2 0\n",
      "2 1\n",
      "2 2\n",
      "[[2, 4, 6], [10, 7, 9], [11, 10, 10]]\n"
     ]
    }
   ],
   "source": [
    "dim =3\n",
    "r1 = [1,2,3]\n",
    "r2 = [4,5,6]\n",
    "r3 =[7,8,9]\n",
    "\n",
    "s1 = [1,2,3]\n",
    "s2 = [6,2,3]\n",
    "s3 = [4,2,1]\n",
    "\n",
    "A =[]\n",
    "\n",
    "A.append(r1)\n",
    "A.append(r2)\n",
    "A.append(r3)\n",
    "\n",
    "B = []\n",
    "\n",
    "B.append(s1)\n",
    "B.append(s2)\n",
    "B.append(s3)\n",
    "\n",
    "print(A)\n",
    "print(B)\n",
    "\n",
    "C = [[0,0,0],[0,0,0],[0,0,0]]\n",
    "\n",
    "for i in range(dim):\n",
    "    for j in range(dim):\n",
    "        C[i][j]= A[i][j]+B[i][j]\n",
    "        print(i,j)\n",
    "print(C)"
   ]
  },
  {
   "cell_type": "markdown",
   "metadata": {},
   "source": [
    "#  matrix multiplication\n"
   ]
  },
  {
   "cell_type": "code",
   "execution_count": 28,
   "metadata": {},
   "outputs": [
    {
     "name": "stdout",
     "output_type": "stream",
     "text": [
      "[[1, 2, 3], [4, 5, 6], [7, 8, 9]]\n",
      "[[1, 2, 3], [6, 2, 3], [4, 2, 1]]\n",
      "[[25, 12, 12], [58, 30, 33], [91, 48, 54]]\n"
     ]
    }
   ],
   "source": [
    "dim =3\n",
    "r1 = [1,2,3]\n",
    "r2 = [4,5,6]\n",
    "r3 =[7,8,9]\n",
    "\n",
    "s1 = [1,2,3]\n",
    "s2 = [6,2,3]\n",
    "s3 = [4,2,1]\n",
    "\n",
    "A =[]\n",
    "\n",
    "A.append(r1)\n",
    "A.append(r2)\n",
    "A.append(r3)\n",
    "\n",
    "B = []\n",
    "\n",
    "B.append(s1)\n",
    "B.append(s2)\n",
    "B.append(s3)\n",
    "\n",
    "print(A)\n",
    "print(B)\n",
    "\n",
    "C = [[0,0,0],[0,0,0],[0,0,0]]\n",
    "\n",
    "for i in range(dim):\n",
    "    for j in range(dim):\n",
    "        for k in range(dim):\n",
    "            C[i][j]= C[i][j]+A[i][k]*B[k][j]\n",
    "        \n",
    "print(C)"
   ]
  },
  {
   "cell_type": "code",
   "execution_count": 44,
   "metadata": {},
   "outputs": [
    {
     "name": "stdout",
     "output_type": "stream",
     "text": [
      "matrix A \n",
      " [[1, 2, 3], [4, 5, 6], [7, 8, 9]] \n",
      "\n",
      "[[1, 2, 3], [6, 2, 3], [4, 2, 1]] \n",
      "\n",
      "\n",
      "[[25 12 12]\n",
      " [58 30 33]\n",
      " [91 48 54]]\n"
     ]
    }
   ],
   "source": [
    "import numpy as np\n",
    "\n",
    "print('matrix A \\n',A,'\\n')\n",
    "print(B,'\\n\\n')\n",
    "\n",
    "x = np.mat(A) #converting to numpy matrix\n",
    "y = np.mat(B) #converting to numpy matrix\n",
    " \n",
    "z = (x*y)  #real matrix multiplication\n",
    "\n",
    "print(z)"
   ]
  },
  {
   "cell_type": "markdown",
   "metadata": {},
   "source": [
    "# notes lists string lists to list"
   ]
  },
  {
   "cell_type": "code",
   "execution_count": 50,
   "metadata": {},
   "outputs": [
    {
     "name": "stdout",
     "output_type": "stream",
     "text": [
      "['1', '2', '5', '7', '5', '']\n"
     ]
    }
   ],
   "source": [
    "line = '1 2 5 7 5 '\n",
    "output = line.split(' ')\n",
    "print(output)"
   ]
  },
  {
   "cell_type": "code",
   "execution_count": 55,
   "metadata": {},
   "outputs": [
    {
     "name": "stdout",
     "output_type": "stream",
     "text": [
      "[1, 2, 3, 4]\n"
     ]
    }
   ],
   "source": [
    "line = '1 2 3 4'\n",
    "num_str = line.split(' ')       # list of numbers represented as strings\n",
    "numbers = []                   \n",
    "for item in num_str:\n",
    "    numbers.append(int(item))   # convert string to int and append to list\n",
    "print(numbers)"
   ]
  },
  {
   "cell_type": "code",
   "execution_count": 7,
   "metadata": {},
   "outputs": [
    {
     "ename": "TypeError",
     "evalue": "'int' object is not iterable",
     "output_type": "error",
     "traceback": [
      "\u001b[1;31m---------------------------------------------------------------------------\u001b[0m",
      "\u001b[1;31mTypeError\u001b[0m                                 Traceback (most recent call last)",
      "\u001b[1;32m<ipython-input-7-38fcbafde738>\u001b[0m in \u001b[0;36m<module>\u001b[1;34m\u001b[0m\n\u001b[0;32m      4\u001b[0m \u001b[1;33m\u001b[0m\u001b[0m\n\u001b[0;32m      5\u001b[0m \u001b[0mnumlist\u001b[0m \u001b[1;33m=\u001b[0m \u001b[1;33m[\u001b[0m\u001b[1;33m]\u001b[0m\u001b[1;33m\u001b[0m\u001b[1;33m\u001b[0m\u001b[0m\n\u001b[1;32m----> 6\u001b[1;33m \u001b[1;32mfor\u001b[0m \u001b[0mi\u001b[0m \u001b[1;32min\u001b[0m \u001b[0mm\u001b[0m\u001b[1;33m:\u001b[0m\u001b[1;33m\u001b[0m\u001b[1;33m\u001b[0m\u001b[0m\n\u001b[0m\u001b[0;32m      7\u001b[0m     \u001b[0mnumlist\u001b[0m\u001b[1;33m.\u001b[0m\u001b[0mappend\u001b[0m\u001b[1;33m(\u001b[0m\u001b[0mint\u001b[0m\u001b[1;33m(\u001b[0m\u001b[0mi\u001b[0m\u001b[1;33m)\u001b[0m\u001b[1;33m)\u001b[0m\u001b[1;33m\u001b[0m\u001b[1;33m\u001b[0m\u001b[0m\n\u001b[0;32m      8\u001b[0m \u001b[0mprint\u001b[0m\u001b[1;33m(\u001b[0m\u001b[0mnumlist\u001b[0m\u001b[1;33m)\u001b[0m\u001b[1;33m\u001b[0m\u001b[1;33m\u001b[0m\u001b[0m\n",
      "\u001b[1;31mTypeError\u001b[0m: 'int' object is not iterable"
     ]
    }
   ],
   "source": [
    "line = '12575'\n",
    "m = int(line)\n",
    "#list1 = m.split(' ')\n",
    "\n",
    "numlist = []\n",
    "for i in m:\n",
    "    numlist.append(int(i))\n",
    "print(numlist)"
   ]
  },
  {
   "cell_type": "code",
   "execution_count": 64,
   "metadata": {},
   "outputs": [
    {
     "name": "stdout",
     "output_type": "stream",
     "text": [
      "hi\n"
     ]
    }
   ],
   "source": [
    "f = [56,67,75,67899,7]\n",
    "x = 67\n",
    "if(x in f):\n",
    "    print(\"hi\")\n",
    "else: \n",
    "    print(\"no hi\")"
   ]
  },
  {
   "cell_type": "code",
   "execution_count": 66,
   "metadata": {},
   "outputs": [
    {
     "name": "stdout",
     "output_type": "stream",
     "text": [
      "[]\n"
     ]
    }
   ],
   "source": [
    "L = [ ]\n",
    "# Enter code below this line #\n",
    "#\t\tFill code here       #\n",
    "# Enter code above this line #\n",
    "print(L)\n",
    "# out put[1, 2, 3, 4, 5]"
   ]
  },
  {
   "cell_type": "code",
   "execution_count": 68,
   "metadata": {},
   "outputs": [
    {
     "name": "stdout",
     "output_type": "stream",
     "text": [
      "[1, 2, 3, 4, 5]\n"
     ]
    }
   ],
   "source": [
    "L = []\n",
    "\n",
    "for i in range(1,6):\n",
    "    L.append(i)\n",
    "print(L)"
   ]
  },
  {
   "cell_type": "code",
   "execution_count": 73,
   "metadata": {},
   "outputs": [
    {
     "ename": "TypeError",
     "evalue": "append() takes exactly one argument (5 given)",
     "output_type": "error",
     "traceback": [
      "\u001b[1;31m---------------------------------------------------------------------------\u001b[0m",
      "\u001b[1;31mTypeError\u001b[0m                                 Traceback (most recent call last)",
      "\u001b[1;32m<ipython-input-73-7dd6b75aca8e>\u001b[0m in \u001b[0;36m<module>\u001b[1;34m\u001b[0m\n\u001b[0;32m      1\u001b[0m \u001b[0mP\u001b[0m \u001b[1;33m=\u001b[0m \u001b[1;33m[\u001b[0m\u001b[1;33m]\u001b[0m\u001b[1;33m\u001b[0m\u001b[1;33m\u001b[0m\u001b[0m\n\u001b[1;32m----> 2\u001b[1;33m \u001b[0mP\u001b[0m\u001b[1;33m.\u001b[0m\u001b[0mappend\u001b[0m\u001b[1;33m(\u001b[0m\u001b[1;36m1\u001b[0m\u001b[1;33m,\u001b[0m\u001b[1;36m2\u001b[0m\u001b[1;33m,\u001b[0m\u001b[1;36m3\u001b[0m\u001b[1;33m,\u001b[0m\u001b[1;36m4\u001b[0m\u001b[1;33m,\u001b[0m\u001b[1;36m5\u001b[0m\u001b[1;33m)\u001b[0m\u001b[1;33m\u001b[0m\u001b[1;33m\u001b[0m\u001b[0m\n\u001b[0m\u001b[0;32m      3\u001b[0m \u001b[0mP\u001b[0m\u001b[1;33m\u001b[0m\u001b[1;33m\u001b[0m\u001b[0m\n",
      "\u001b[1;31mTypeError\u001b[0m: append() takes exactly one argument (5 given)"
     ]
    }
   ],
   "source": [
    "P = []\n",
    "P.append(1,2,3,4,5)\n",
    "P"
   ]
  },
  {
   "cell_type": "code",
   "execution_count": 76,
   "metadata": {},
   "outputs": [
    {
     "name": "stdout",
     "output_type": "stream",
     "text": [
      "[1, 8, 5, 9, 52]\n"
     ]
    }
   ],
   "source": [
    "L= [1,8,5,9,52,85]\n",
    "Q =L[0:-1]\n",
    "print(Q)"
   ]
  },
  {
   "cell_type": "code",
   "execution_count": 1,
   "metadata": {},
   "outputs": [
    {
     "name": "stdout",
     "output_type": "stream",
     "text": [
      "[12, 1212, 1]\n",
      "[12, 13, 3]\n"
     ]
    }
   ],
   "source": [
    "L1 = [[12,1212,1],[12,13,3]]\n",
    "for i in L1:\n",
    "    print(i)"
   ]
  },
  {
   "cell_type": "code",
   "execution_count": 4,
   "metadata": {},
   "outputs": [
    {
     "name": "stdout",
     "output_type": "stream",
     "text": [
      "[12, 1212, 1] [12, 1212, 1]\n",
      "[12, 1212, 1] [12, 13, 3]\n",
      "[12, 13, 3] [12, 1212, 1]\n",
      "[12, 13, 3] [12, 13, 3]\n"
     ]
    }
   ],
   "source": [
    "L1 = [[12,1212,1],[12,"
   ]
  },
  {
   "cell_type": "code",
   "execution_count": 10,
   "metadata": {},
   "outputs": [
    {
     "name": "stdout",
     "output_type": "stream",
     "text": [
      "12\n",
      "1212\n",
      "1\n",
      "12\n",
      "13\n",
      "3\n",
      "134\n",
      "65\n",
      "789\n"
     ]
    }
   ],
   "source": [
    "L1 = [[[12,1212,1],[12,13,3],[134,65,789]]]\n",
    "for i in L1:\n",
    "    for j in i:\n",
    "        for k in j:\n",
    "             print(k)"
   ]
  },
  {
   "cell_type": "code",
   "execution_count": 11,
   "metadata": {},
   "outputs": [
    {
     "name": "stdout",
     "output_type": "stream",
     "text": [
      "0 0\n",
      "0 1\n",
      "0 2\n",
      "0 3\n",
      "0 4\n",
      "1 0\n",
      "1 1\n",
      "1 2\n",
      "1 3\n",
      "1 4\n",
      "2 0\n",
      "2 1\n",
      "2 2\n",
      "2 3\n",
      "2 4\n",
      "3 0\n",
      "3 1\n",
      "3 2\n",
      "3 3\n",
      "3 4\n",
      "4 0\n",
      "4 1\n",
      "4 2\n",
      "4 3\n",
      "4 4\n"
     ]
    }
   ],
   "source": [
    "for i in range(5):\n",
    "    for j in range(5):\n",
    "        print(i,j)\n",
    "        "
   ]
  },
  {
   "cell_type": "code",
   "execution_count": 13,
   "metadata": {},
   "outputs": [
    {
     "name": "stdout",
     "output_type": "stream",
     "text": [
      "['16', '1', '616', '3']\n"
     ]
    }
   ],
   "source": [
    "l = \"1651561653\"\n",
    "x = l.split(\"5\")\n",
    "print(x)"
   ]
  },
  {
   "cell_type": "code",
   "execution_count": 15,
   "metadata": {},
   "outputs": [
    {
     "name": "stdout",
     "output_type": "stream",
     "text": [
      "[16, 1, 616, 3]\n"
     ]
    }
   ],
   "source": [
    "a = []\n",
    "for i in x :\n",
    "    a.append(int(i))\n",
    "print(a)"
   ]
  },
  {
   "cell_type": "code",
   "execution_count": 16,
   "metadata": {},
   "outputs": [],
   "source": [
    "y =\"34678986\"\n",
    "x = int(y)"
   ]
  },
  {
   "cell_type": "code",
   "execution_count": 20,
   "metadata": {},
   "outputs": [
    {
     "data": {
      "text/plain": [
       "34679664"
      ]
     },
     "execution_count": 20,
     "metadata": {},
     "output_type": "execute_result"
    }
   ],
   "source": [
    "x+678"
   ]
  },
  {
   "cell_type": "code",
   "execution_count": 19,
   "metadata": {},
   "outputs": [
    {
     "ename": "TypeError",
     "evalue": "can only concatenate str (not \"int\") to str",
     "output_type": "error",
     "traceback": [
      "\u001b[1;31m---------------------------------------------------------------------------\u001b[0m",
      "\u001b[1;31mTypeError\u001b[0m                                 Traceback (most recent call last)",
      "\u001b[1;32m<ipython-input-19-416256ee309c>\u001b[0m in \u001b[0;36m<module>\u001b[1;34m\u001b[0m\n\u001b[1;32m----> 1\u001b[1;33m \u001b[0my\u001b[0m\u001b[1;33m+\u001b[0m\u001b[1;36m56\u001b[0m\u001b[1;33m\u001b[0m\u001b[1;33m\u001b[0m\u001b[0m\n\u001b[0m",
      "\u001b[1;31mTypeError\u001b[0m: can only concatenate str (not \"int\") to str"
     ]
    }
   ],
   "source": [
    "l = [98,789,76]\n"
   ]
  },
  {
   "cell_type": "code",
   "execution_count": 22,
   "metadata": {},
   "outputs": [
    {
     "name": "stdout",
     "output_type": "stream",
     "text": [
      "[1, 0, 0]\n",
      "[0, 1, 0]\n",
      "[0, 0, 1]\n"
     ]
    }
   ],
   "source": [
    "l = [[1,0,0],[0,1,0],[0,0,1]]\n",
    "sum1 = 0\n",
    "for i in l:\n",
    "    for j in l:\n",
    "        for k in l:\n",
    "            if(l[j]==l[k])\n",
    "            "
   ]
  },
  {
   "cell_type": "code",
   "execution_count": 28,
   "metadata": {},
   "outputs": [
    {
     "name": "stdout",
     "output_type": "stream",
     "text": [
      "13230\n"
     ]
    }
   ],
   "source": [
    "l = [[1,2,3],[7,1,9],[5,7,1]]\n",
    "sum1 = 1\n",
    "for i in l:\n",
    "    for j in i:\n",
    "         sum1= sum1 *j\n",
    "print(sum1)"
   ]
  },
  {
   "cell_type": "code",
   "execution_count": 33,
   "metadata": {},
   "outputs": [
    {
     "name": "stdout",
     "output_type": "stream",
     "text": [
      "1\n",
      "2\n",
      "3\n",
      "7\n",
      "1\n",
      "9\n",
      "5\n",
      "7\n",
      "1\n"
     ]
    }
   ],
   "source": [
    "l = [[1,2,3],[7,1,9],[5,7,1]]\n",
    "#sum1 = 1\n",
    "for i in l:\n",
    "    for j in i:\n",
    "         print(j)"
   ]
  },
  {
   "cell_type": "markdown",
   "metadata": {},
   "source": [
    "# subsequvence"
   ]
  },
  {
   "cell_type": "code",
   "execution_count": 58,
   "metadata": {},
   "outputs": [
    {
     "name": "stdout",
     "output_type": "stream",
     "text": [
      "1\n",
      "12\n",
      "123\n",
      "1234\n",
      "2\n",
      "23\n",
      "234\n",
      "3\n",
      "34\n",
      "4\n"
     ]
    }
   ],
   "source": [
    "l1 = [1,2,3,4]\n",
    "n= len(l1)\n",
    "for i in range(n):\n",
    "    for j in range(i,n):\n",
    "        for k in range(i,j+1):\n",
    "            print(l1[k],end=\"\")\n",
    "        print(\"\\n\",end=\"\")"
   ]
  },
  {
   "cell_type": "code",
   "execution_count": 56,
   "metadata": {},
   "outputs": [
    {
     "name": "stdout",
     "output_type": "stream",
     "text": [
      "a\n",
      "\n",
      "ab\n",
      "\n",
      "abc\n",
      "\n",
      "abcd\n",
      "\n",
      "abcde\n",
      "\n",
      "abcdef\n",
      "\n",
      "abcdefg\n",
      "\n",
      "b\n",
      "\n",
      "bc\n",
      "\n",
      "bcd\n",
      "\n",
      "bcde\n",
      "\n",
      "bcdef\n",
      "\n",
      "bcdefg\n",
      "\n",
      "c\n",
      "\n",
      "cd\n",
      "\n",
      "cde\n",
      "\n",
      "cdef\n",
      "\n",
      "cdefg\n",
      "\n",
      "d\n",
      "\n",
      "de\n",
      "\n",
      "def\n",
      "\n",
      "defg\n",
      "\n",
      "e\n",
      "\n",
      "ef\n",
      "\n",
      "efg\n",
      "\n",
      "f\n",
      "\n",
      "fg\n",
      "\n",
      "g\n",
      "\n"
     ]
    }
   ],
   "source": [
    "l = ['a','b','c','d','e','f','g']\n",
    "\n",
    "for i in range(len(l)):\n",
    "    for j in range(i,len(l)):\n",
    "        for k in range(i,j+1):\n",
    "            print(l[k],end=\"\")\n",
    "        print(\"\\n\")"
   ]
  },
  {
   "cell_type": "code",
   "execution_count": 59,
   "metadata": {},
   "outputs": [
    {
     "name": "stdout",
     "output_type": "stream",
     "text": [
      "0 0 0\n",
      "0 0 1\n",
      "0 0 2\n",
      "0 0 3\n",
      "0 1 0\n",
      "0 1 1\n",
      "0 1 2\n",
      "0 1 3\n",
      "0 2 0\n",
      "0 2 1\n",
      "0 2 2\n",
      "0 2 3\n",
      "0 3 0\n",
      "0 3 1\n",
      "0 3 2\n",
      "0 3 3\n",
      "1 0 0\n",
      "1 0 1\n",
      "1 0 2\n",
      "1 0 3\n",
      "1 1 0\n",
      "1 1 1\n",
      "1 1 2\n",
      "1 1 3\n",
      "1 2 0\n",
      "1 2 1\n",
      "1 2 2\n",
      "1 2 3\n",
      "1 3 0\n",
      "1 3 1\n",
      "1 3 2\n",
      "1 3 3\n",
      "2 0 0\n",
      "2 0 1\n",
      "2 0 2\n",
      "2 0 3\n",
      "2 1 0\n",
      "2 1 1\n",
      "2 1 2\n",
      "2 1 3\n",
      "2 2 0\n",
      "2 2 1\n",
      "2 2 2\n",
      "2 2 3\n",
      "2 3 0\n",
      "2 3 1\n",
      "2 3 2\n",
      "2 3 3\n",
      "3 0 0\n",
      "3 0 1\n",
      "3 0 2\n",
      "3 0 3\n",
      "3 1 0\n",
      "3 1 1\n",
      "3 1 2\n",
      "3 1 3\n",
      "3 2 0\n",
      "3 2 1\n",
      "3 2 2\n",
      "3 2 3\n",
      "3 3 0\n",
      "3 3 1\n",
      "3 3 2\n",
      "3 3 3\n"
     ]
    }
   ],
   "source": [
    "for i in range(4):\n",
    "    for j in range(4):\n",
    "        for k in range(4):\n",
    "            print(i,j,k)"
   ]
  },
  {
   "cell_type": "code",
   "execution_count": null,
   "metadata": {},
   "outputs": [],
   "source": []
  }
 ],
 "metadata": {
  "kernelspec": {
   "display_name": "Python 3 (ipykernel)",
   "language": "python",
   "name": "python3"
  },
  "language_info": {
   "codemirror_mode": {
    "name": "ipython",
    "version": 3
   },
   "file_extension": ".py",
   "mimetype": "text/x-python",
   "name": "python",
   "nbconvert_exporter": "python",
   "pygments_lexer": "ipython3",
   "version": "3.9.7"
  }
 },
 "nbformat": 4,
 "nbformat_minor": 4
}
